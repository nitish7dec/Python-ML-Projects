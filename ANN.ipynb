{
 "cells": [
  {
   "cell_type": "code",
   "execution_count": 1,
   "metadata": {},
   "outputs": [],
   "source": [
    "import numpy as np\n",
    "import matplotlib.pyplot as plt\n",
    "import pandas as pd"
   ]
  },
  {
   "cell_type": "code",
   "execution_count": 2,
   "metadata": {},
   "outputs": [],
   "source": [
    "dataset = pd.read_csv(r'C:\\Users\\nitishkumar\\Desktop\\P\\Libraries\\C\\Machine-Learning-A-Z\\Machine Learning A-Z New\\Part 8 - Deep Learning\\Section 39 - Artificial Neural Networks (ANN)\\Churn_Modelling.csv')\n",
    "X = dataset.iloc[:, 3:13].values\n",
    "y = dataset.iloc[:, 13].values"
   ]
  },
  {
   "cell_type": "code",
   "execution_count": 3,
   "metadata": {},
   "outputs": [
    {
     "data": {
      "text/plain": [
       "array([[619, 'France', 'Female', ..., 1, 1, 101348.88],\n",
       "       [608, 'Spain', 'Female', ..., 0, 1, 112542.58],\n",
       "       [502, 'France', 'Female', ..., 1, 0, 113931.57],\n",
       "       ...,\n",
       "       [709, 'France', 'Female', ..., 0, 1, 42085.58],\n",
       "       [772, 'Germany', 'Male', ..., 1, 0, 92888.52],\n",
       "       [792, 'France', 'Female', ..., 1, 0, 38190.78]], dtype=object)"
      ]
     },
     "execution_count": 3,
     "metadata": {},
     "output_type": "execute_result"
    }
   ],
   "source": [
    "X"
   ]
  },
  {
   "cell_type": "code",
   "execution_count": 4,
   "metadata": {},
   "outputs": [
    {
     "name": "stderr",
     "output_type": "stream",
     "text": [
      "C:\\Users\\nitishkumar\\AppData\\Local\\Continuum\\anaconda3\\lib\\site-packages\\sklearn\\preprocessing\\_encoders.py:415: FutureWarning: The handling of integer data will change in version 0.22. Currently, the categories are determined based on the range [0, max(values)], while in the future they will be determined based on the unique values.\n",
      "If you want the future behaviour and silence this warning, you can specify \"categories='auto'\".\n",
      "In case you used a LabelEncoder before this OneHotEncoder to convert the categories to integers, then you can now use the OneHotEncoder directly.\n",
      "  warnings.warn(msg, FutureWarning)\n",
      "C:\\Users\\nitishkumar\\AppData\\Local\\Continuum\\anaconda3\\lib\\site-packages\\sklearn\\preprocessing\\_encoders.py:451: DeprecationWarning: The 'categorical_features' keyword is deprecated in version 0.20 and will be removed in 0.22. You can use the ColumnTransformer instead.\n",
      "  \"use the ColumnTransformer instead.\", DeprecationWarning)\n"
     ]
    }
   ],
   "source": [
    "from sklearn.preprocessing import LabelEncoder, OneHotEncoder\n",
    "labelencoder_X_1 = LabelEncoder()\n",
    "X[:, 1] = labelencoder_X_1.fit_transform(X[:, 1])\n",
    "labelencoder_X_2 = LabelEncoder()\n",
    "X[:, 2] = labelencoder_X_2.fit_transform(X[:, 2])\n",
    "onehotencoder = OneHotEncoder(categorical_features = [1])\n",
    "X = onehotencoder.fit_transform(X).toarray()\n",
    "X = X[:, 1:]"
   ]
  },
  {
   "cell_type": "code",
   "execution_count": 5,
   "metadata": {},
   "outputs": [],
   "source": [
    "from sklearn.model_selection import train_test_split\n",
    "X_train, X_test, y_train, y_test = train_test_split(X, y, test_size = 0.2, random_state = 0)"
   ]
  },
  {
   "cell_type": "code",
   "execution_count": 6,
   "metadata": {},
   "outputs": [],
   "source": [
    "from sklearn.preprocessing import StandardScaler\n",
    "sc = StandardScaler()\n",
    "X_train = sc.fit_transform(X_train)\n",
    "X_test = sc.transform(X_test)"
   ]
  },
  {
   "cell_type": "code",
   "execution_count": 7,
   "metadata": {},
   "outputs": [
    {
     "name": "stderr",
     "output_type": "stream",
     "text": [
      "Using TensorFlow backend.\n"
     ]
    },
    {
     "name": "stdout",
     "output_type": "stream",
     "text": [
      "WARNING:tensorflow:From C:\\Users\\nitishkumar\\AppData\\Local\\Continuum\\anaconda3\\lib\\site-packages\\keras\\backend\\tensorflow_backend.py:66: The name tf.get_default_graph is deprecated. Please use tf.compat.v1.get_default_graph instead.\n",
      "\n",
      "WARNING:tensorflow:From C:\\Users\\nitishkumar\\AppData\\Local\\Continuum\\anaconda3\\lib\\site-packages\\keras\\backend\\tensorflow_backend.py:541: The name tf.placeholder is deprecated. Please use tf.compat.v1.placeholder instead.\n",
      "\n",
      "WARNING:tensorflow:From C:\\Users\\nitishkumar\\AppData\\Local\\Continuum\\anaconda3\\lib\\site-packages\\keras\\backend\\tensorflow_backend.py:4432: The name tf.random_uniform is deprecated. Please use tf.random.uniform instead.\n",
      "\n",
      "WARNING:tensorflow:From C:\\Users\\nitishkumar\\AppData\\Local\\Continuum\\anaconda3\\lib\\site-packages\\keras\\optimizers.py:793: The name tf.train.Optimizer is deprecated. Please use tf.compat.v1.train.Optimizer instead.\n",
      "\n",
      "WARNING:tensorflow:From C:\\Users\\nitishkumar\\AppData\\Local\\Continuum\\anaconda3\\lib\\site-packages\\keras\\backend\\tensorflow_backend.py:3657: The name tf.log is deprecated. Please use tf.math.log instead.\n",
      "\n",
      "WARNING:tensorflow:From C:\\Users\\nitishkumar\\AppData\\Local\\Continuum\\anaconda3\\lib\\site-packages\\tensorflow_core\\python\\ops\\nn_impl.py:183: where (from tensorflow.python.ops.array_ops) is deprecated and will be removed in a future version.\n",
      "Instructions for updating:\n",
      "Use tf.where in 2.0, which has the same broadcast rule as np.where\n",
      "WARNING:tensorflow:From C:\\Users\\nitishkumar\\AppData\\Local\\Continuum\\anaconda3\\lib\\site-packages\\keras\\backend\\tensorflow_backend.py:1033: The name tf.assign_add is deprecated. Please use tf.compat.v1.assign_add instead.\n",
      "\n",
      "WARNING:tensorflow:From C:\\Users\\nitishkumar\\AppData\\Local\\Continuum\\anaconda3\\lib\\site-packages\\keras\\backend\\tensorflow_backend.py:1020: The name tf.assign is deprecated. Please use tf.compat.v1.assign instead.\n",
      "\n",
      "WARNING:tensorflow:From C:\\Users\\nitishkumar\\AppData\\Local\\Continuum\\anaconda3\\lib\\site-packages\\keras\\backend\\tensorflow_backend.py:3005: The name tf.Session is deprecated. Please use tf.compat.v1.Session instead.\n",
      "\n",
      "Epoch 1/100\n",
      "WARNING:tensorflow:From C:\\Users\\nitishkumar\\AppData\\Local\\Continuum\\anaconda3\\lib\\site-packages\\keras\\backend\\tensorflow_backend.py:190: The name tf.get_default_session is deprecated. Please use tf.compat.v1.get_default_session instead.\n",
      "\n",
      "WARNING:tensorflow:From C:\\Users\\nitishkumar\\AppData\\Local\\Continuum\\anaconda3\\lib\\site-packages\\keras\\backend\\tensorflow_backend.py:197: The name tf.ConfigProto is deprecated. Please use tf.compat.v1.ConfigProto instead.\n",
      "\n",
      "WARNING:tensorflow:From C:\\Users\\nitishkumar\\AppData\\Local\\Continuum\\anaconda3\\lib\\site-packages\\keras\\backend\\tensorflow_backend.py:207: The name tf.global_variables is deprecated. Please use tf.compat.v1.global_variables instead.\n",
      "\n",
      "WARNING:tensorflow:From C:\\Users\\nitishkumar\\AppData\\Local\\Continuum\\anaconda3\\lib\\site-packages\\keras\\backend\\tensorflow_backend.py:216: The name tf.is_variable_initialized is deprecated. Please use tf.compat.v1.is_variable_initialized instead.\n",
      "\n",
      "WARNING:tensorflow:From C:\\Users\\nitishkumar\\AppData\\Local\\Continuum\\anaconda3\\lib\\site-packages\\keras\\backend\\tensorflow_backend.py:223: The name tf.variables_initializer is deprecated. Please use tf.compat.v1.variables_initializer instead.\n",
      "\n",
      "8000/8000 [==============================] - 1s 128us/step - loss: 0.4943 - acc: 0.7954\n",
      "Epoch 2/100\n",
      "8000/8000 [==============================] - 1s 93us/step - loss: 0.4278 - acc: 0.7960\n",
      "Epoch 3/100\n",
      "8000/8000 [==============================] - 1s 88us/step - loss: 0.4235 - acc: 0.7960\n",
      "Epoch 4/100\n",
      "8000/8000 [==============================] - 1s 98us/step - loss: 0.4199 - acc: 0.8115\n",
      "Epoch 5/100\n",
      "8000/8000 [==============================] - 1s 95us/step - loss: 0.4171 - acc: 0.8246\n",
      "Epoch 6/100\n",
      "8000/8000 [==============================] - 1s 88us/step - loss: 0.4156 - acc: 0.8261\n",
      "Epoch 7/100\n",
      "8000/8000 [==============================] - 1s 84us/step - loss: 0.4140 - acc: 0.8306\n",
      "Epoch 8/100\n",
      "8000/8000 [==============================] - 1s 83us/step - loss: 0.4125 - acc: 0.8307\n",
      "Epoch 9/100\n",
      "8000/8000 [==============================] - 1s 83us/step - loss: 0.4115 - acc: 0.8326\n",
      "Epoch 10/100\n",
      "8000/8000 [==============================] - 1s 78us/step - loss: 0.4105 - acc: 0.8326\n",
      "Epoch 11/100\n",
      "8000/8000 [==============================] - 1s 84us/step - loss: 0.4094 - acc: 0.8327\n",
      "Epoch 12/100\n",
      "8000/8000 [==============================] - 1s 89us/step - loss: 0.4092 - acc: 0.8324\n",
      "Epoch 13/100\n",
      "8000/8000 [==============================] - 1s 87us/step - loss: 0.4083 - acc: 0.8326\n",
      "Epoch 14/100\n",
      "8000/8000 [==============================] - 1s 89us/step - loss: 0.4078 - acc: 0.8337\n",
      "Epoch 15/100\n",
      "8000/8000 [==============================] - 1s 78us/step - loss: 0.4074 - acc: 0.8349\n",
      "Epoch 16/100\n",
      "8000/8000 [==============================] - 1s 80us/step - loss: 0.4072 - acc: 0.8335\n",
      "Epoch 17/100\n",
      "8000/8000 [==============================] - 1s 87us/step - loss: 0.4063 - acc: 0.8335\n",
      "Epoch 18/100\n",
      "8000/8000 [==============================] - 1s 91us/step - loss: 0.4064 - acc: 0.8329\n",
      "Epoch 19/100\n",
      "8000/8000 [==============================] - 1s 80us/step - loss: 0.4059 - acc: 0.8336\n",
      "Epoch 20/100\n",
      "8000/8000 [==============================] - 1s 82us/step - loss: 0.4052 - acc: 0.8355\n",
      "Epoch 21/100\n",
      "8000/8000 [==============================] - 1s 79us/step - loss: 0.4056 - acc: 0.8339\n",
      "Epoch 22/100\n",
      "8000/8000 [==============================] - 1s 82us/step - loss: 0.4049 - acc: 0.8354\n",
      "Epoch 23/100\n",
      "8000/8000 [==============================] - 1s 88us/step - loss: 0.4049 - acc: 0.8350\n",
      "Epoch 24/100\n",
      "8000/8000 [==============================] - 1s 88us/step - loss: 0.4046 - acc: 0.8344\n",
      "Epoch 25/100\n",
      "8000/8000 [==============================] - 1s 84us/step - loss: 0.4043 - acc: 0.8346\n",
      "Epoch 26/100\n",
      "8000/8000 [==============================] - 1s 85us/step - loss: 0.4041 - acc: 0.8345\n",
      "Epoch 27/100\n",
      "8000/8000 [==============================] - 1s 81us/step - loss: 0.4042 - acc: 0.8334\n",
      "Epoch 28/100\n",
      "8000/8000 [==============================] - 1s 81us/step - loss: 0.4037 - acc: 0.8341\n",
      "Epoch 29/100\n",
      "8000/8000 [==============================] - 1s 81us/step - loss: 0.4037 - acc: 0.8344\n",
      "Epoch 30/100\n",
      "8000/8000 [==============================] - 1s 89us/step - loss: 0.4033 - acc: 0.8340\n",
      "Epoch 31/100\n",
      "8000/8000 [==============================] - 1s 90us/step - loss: 0.4033 - acc: 0.8349\n",
      "Epoch 32/100\n",
      "8000/8000 [==============================] - 1s 87us/step - loss: 0.4032 - acc: 0.8341\n",
      "Epoch 33/100\n",
      "8000/8000 [==============================] - 1s 86us/step - loss: 0.4033 - acc: 0.8346\n",
      "Epoch 34/100\n",
      "8000/8000 [==============================] - 1s 91us/step - loss: 0.4031 - acc: 0.8341\n",
      "Epoch 35/100\n",
      "8000/8000 [==============================] - 1s 93us/step - loss: 0.4024 - acc: 0.8352: 0s - loss: 0.4036 - acc: 0.8\n",
      "Epoch 36/100\n",
      "8000/8000 [==============================] - 1s 90us/step - loss: 0.4029 - acc: 0.8351\n",
      "Epoch 37/100\n",
      "8000/8000 [==============================] - 1s 85us/step - loss: 0.4026 - acc: 0.8359\n",
      "Epoch 38/100\n",
      "8000/8000 [==============================] - 1s 86us/step - loss: 0.4029 - acc: 0.8347\n",
      "Epoch 39/100\n",
      "8000/8000 [==============================] - 1s 87us/step - loss: 0.4022 - acc: 0.8337\n",
      "Epoch 40/100\n",
      "8000/8000 [==============================] - 1s 85us/step - loss: 0.4024 - acc: 0.8346\n",
      "Epoch 41/100\n",
      "8000/8000 [==============================] - 1s 85us/step - loss: 0.4021 - acc: 0.8341\n",
      "Epoch 42/100\n",
      "8000/8000 [==============================] - 1s 90us/step - loss: 0.4023 - acc: 0.8350\n",
      "Epoch 43/100\n",
      "8000/8000 [==============================] - 1s 91us/step - loss: 0.4020 - acc: 0.8346\n",
      "Epoch 44/100\n",
      "8000/8000 [==============================] - 1s 88us/step - loss: 0.4024 - acc: 0.8332\n",
      "Epoch 45/100\n",
      "8000/8000 [==============================] - 1s 85us/step - loss: 0.4021 - acc: 0.8336\n",
      "Epoch 46/100\n",
      "8000/8000 [==============================] - 1s 92us/step - loss: 0.4023 - acc: 0.8350\n",
      "Epoch 47/100\n",
      "8000/8000 [==============================] - 1s 89us/step - loss: 0.4018 - acc: 0.8344\n",
      "Epoch 48/100\n",
      "8000/8000 [==============================] - 1s 92us/step - loss: 0.4023 - acc: 0.8345\n",
      "Epoch 49/100\n",
      "8000/8000 [==============================] - 1s 94us/step - loss: 0.4017 - acc: 0.8350\n",
      "Epoch 50/100\n"
     ]
    },
    {
     "name": "stdout",
     "output_type": "stream",
     "text": [
      "8000/8000 [==============================] - 1s 91us/step - loss: 0.4020 - acc: 0.8357\n",
      "Epoch 51/100\n",
      "8000/8000 [==============================] - 1s 93us/step - loss: 0.4019 - acc: 0.8352\n",
      "Epoch 52/100\n",
      "8000/8000 [==============================] - 1s 91us/step - loss: 0.4015 - acc: 0.8354\n",
      "Epoch 53/100\n",
      "8000/8000 [==============================] - 1s 95us/step - loss: 0.4017 - acc: 0.8345\n",
      "Epoch 54/100\n",
      "8000/8000 [==============================] - 1s 103us/step - loss: 0.4009 - acc: 0.8346\n",
      "Epoch 55/100\n",
      "8000/8000 [==============================] - 1s 110us/step - loss: 0.4011 - acc: 0.8345\n",
      "Epoch 56/100\n",
      "8000/8000 [==============================] - 1s 97us/step - loss: 0.4009 - acc: 0.8356\n",
      "Epoch 57/100\n",
      "8000/8000 [==============================] - 1s 102us/step - loss: 0.4015 - acc: 0.8334\n",
      "Epoch 58/100\n",
      "8000/8000 [==============================] - 1s 88us/step - loss: 0.4015 - acc: 0.8360\n",
      "Epoch 59/100\n",
      "8000/8000 [==============================] - 1s 87us/step - loss: 0.4011 - acc: 0.8329\n",
      "Epoch 60/100\n",
      "8000/8000 [==============================] - 1s 82us/step - loss: 0.4007 - acc: 0.8345\n",
      "Epoch 61/100\n",
      "8000/8000 [==============================] - 1s 85us/step - loss: 0.4009 - acc: 0.8341\n",
      "Epoch 62/100\n",
      "8000/8000 [==============================] - 1s 90us/step - loss: 0.4010 - acc: 0.8342\n",
      "Epoch 63/100\n",
      "8000/8000 [==============================] - 1s 94us/step - loss: 0.4008 - acc: 0.8336\n",
      "Epoch 64/100\n",
      "8000/8000 [==============================] - 1s 112us/step - loss: 0.4014 - acc: 0.8339\n",
      "Epoch 65/100\n",
      "8000/8000 [==============================] - 1s 90us/step - loss: 0.4008 - acc: 0.8337\n",
      "Epoch 66/100\n",
      "8000/8000 [==============================] - 1s 85us/step - loss: 0.4008 - acc: 0.8345\n",
      "Epoch 67/100\n",
      "8000/8000 [==============================] - 1s 75us/step - loss: 0.4008 - acc: 0.8335\n",
      "Epoch 68/100\n",
      "8000/8000 [==============================] - 1s 78us/step - loss: 0.4008 - acc: 0.8352\n",
      "Epoch 69/100\n",
      "8000/8000 [==============================] - 1s 76us/step - loss: 0.4007 - acc: 0.8346\n",
      "Epoch 70/100\n",
      "8000/8000 [==============================] - 1s 85us/step - loss: 0.4006 - acc: 0.8335\n",
      "Epoch 71/100\n",
      "8000/8000 [==============================] - 1s 88us/step - loss: 0.4005 - acc: 0.8341\n",
      "Epoch 72/100\n",
      "8000/8000 [==============================] - 1s 81us/step - loss: 0.4004 - acc: 0.8335\n",
      "Epoch 73/100\n",
      "8000/8000 [==============================] - 1s 86us/step - loss: 0.4006 - acc: 0.8342\n",
      "Epoch 74/100\n",
      "8000/8000 [==============================] - 1s 84us/step - loss: 0.4005 - acc: 0.8331\n",
      "Epoch 75/100\n",
      "8000/8000 [==============================] - 1s 83us/step - loss: 0.4000 - acc: 0.8347\n",
      "Epoch 76/100\n",
      "8000/8000 [==============================] - 1s 85us/step - loss: 0.4005 - acc: 0.8330\n",
      "Epoch 77/100\n",
      "8000/8000 [==============================] - 1s 105us/step - loss: 0.4003 - acc: 0.8347\n",
      "Epoch 78/100\n",
      "8000/8000 [==============================] - 1s 89us/step - loss: 0.4005 - acc: 0.8339\n",
      "Epoch 79/100\n",
      "8000/8000 [==============================] - 1s 92us/step - loss: 0.4003 - acc: 0.8325\n",
      "Epoch 80/100\n",
      "8000/8000 [==============================] - 1s 112us/step - loss: 0.4003 - acc: 0.8342\n",
      "Epoch 81/100\n",
      "8000/8000 [==============================] - 1s 101us/step - loss: 0.4001 - acc: 0.8346\n",
      "Epoch 82/100\n",
      "8000/8000 [==============================] - 1s 100us/step - loss: 0.4003 - acc: 0.8345\n",
      "Epoch 83/100\n",
      "8000/8000 [==============================] - 1s 87us/step - loss: 0.4007 - acc: 0.8335\n",
      "Epoch 84/100\n",
      "8000/8000 [==============================] - 1s 88us/step - loss: 0.4001 - acc: 0.8374\n",
      "Epoch 85/100\n",
      "8000/8000 [==============================] - 1s 92us/step - loss: 0.4003 - acc: 0.8337\n",
      "Epoch 86/100\n",
      "8000/8000 [==============================] - 1s 89us/step - loss: 0.3999 - acc: 0.8345\n",
      "Epoch 87/100\n",
      "8000/8000 [==============================] - 1s 91us/step - loss: 0.4003 - acc: 0.8340\n",
      "Epoch 88/100\n",
      "8000/8000 [==============================] - 1s 100us/step - loss: 0.4001 - acc: 0.8335\n",
      "Epoch 89/100\n",
      "8000/8000 [==============================] - 1s 90us/step - loss: 0.3999 - acc: 0.8352\n",
      "Epoch 90/100\n",
      "8000/8000 [==============================] - 1s 84us/step - loss: 0.4003 - acc: 0.8352\n",
      "Epoch 91/100\n",
      "8000/8000 [==============================] - 1s 82us/step - loss: 0.4002 - acc: 0.8345\n",
      "Epoch 92/100\n",
      "8000/8000 [==============================] - 1s 84us/step - loss: 0.4003 - acc: 0.8336\n",
      "Epoch 93/100\n",
      "8000/8000 [==============================] - 1s 88us/step - loss: 0.4001 - acc: 0.8362\n",
      "Epoch 94/100\n",
      "8000/8000 [==============================] - 1s 87us/step - loss: 0.3998 - acc: 0.8345\n",
      "Epoch 95/100\n",
      "8000/8000 [==============================] - 1s 91us/step - loss: 0.3999 - acc: 0.8345\n",
      "Epoch 96/100\n",
      "8000/8000 [==============================] - 1s 91us/step - loss: 0.4000 - acc: 0.8340\n",
      "Epoch 97/100\n",
      "8000/8000 [==============================] - 1s 98us/step - loss: 0.4003 - acc: 0.8341\n",
      "Epoch 98/100\n",
      "8000/8000 [==============================] - 1s 102us/step - loss: 0.4001 - acc: 0.8336\n",
      "Epoch 99/100\n",
      "8000/8000 [==============================] - 1s 102us/step - loss: 0.4000 - acc: 0.8350\n",
      "Epoch 100/100\n",
      "8000/8000 [==============================] - 1s 88us/step - loss: 0.4002 - acc: 0.8332\n"
     ]
    },
    {
     "data": {
      "text/plain": [
       "<keras.callbacks.History at 0x223c07dd148>"
      ]
     },
     "execution_count": 7,
     "metadata": {},
     "output_type": "execute_result"
    }
   ],
   "source": [
    "import keras\n",
    "from keras.models import Sequential\n",
    "from keras.layers import Dense\n",
    "\n",
    "# Initialising the ANN\n",
    "classifier = Sequential()\n",
    "\n",
    "# Adding the input layer and the first hidden layer\n",
    "classifier.add(Dense(units = 6, kernel_initializer = 'uniform', activation = 'relu', input_dim = 11))\n",
    "\n",
    "# Adding the second hidden layer\n",
    "classifier.add(Dense(units = 6, kernel_initializer = 'uniform', activation = 'relu'))\n",
    "\n",
    "# Adding the output layer\n",
    "classifier.add(Dense(units = 1, kernel_initializer = 'uniform', activation = 'sigmoid'))\n",
    "\n",
    "# Compiling the ANN\n",
    "classifier.compile(optimizer = 'adam', loss = 'binary_crossentropy', metrics = ['accuracy'])\n",
    "\n",
    "# Fitting the ANN to the Training set\n",
    "classifier.fit(X_train, y_train, batch_size = 10, epochs = 100)\n"
   ]
  },
  {
   "cell_type": "code",
   "execution_count": 19,
   "metadata": {},
   "outputs": [],
   "source": [
    "y_pred = classifier.predict(X_test)\n",
    "y_pred = (y_pred > 0.5)\n"
   ]
  },
  {
   "cell_type": "code",
   "execution_count": 20,
   "metadata": {},
   "outputs": [],
   "source": [
    "from sklearn.metrics import confusion_matrix\n",
    "cm = confusion_matrix(y_test, y_pred)"
   ]
  },
  {
   "cell_type": "code",
   "execution_count": 21,
   "metadata": {},
   "outputs": [
    {
     "data": {
      "text/plain": [
       "array([[1545,   50],\n",
       "       [ 270,  135]], dtype=int64)"
      ]
     },
     "execution_count": 21,
     "metadata": {},
     "output_type": "execute_result"
    }
   ],
   "source": [
    "cm"
   ]
  },
  {
   "cell_type": "code",
   "execution_count": null,
   "metadata": {},
   "outputs": [],
   "source": []
  }
 ],
 "metadata": {
  "kernelspec": {
   "display_name": "Python 3",
   "language": "python",
   "name": "python3"
  },
  "language_info": {
   "codemirror_mode": {
    "name": "ipython",
    "version": 3
   },
   "file_extension": ".py",
   "mimetype": "text/x-python",
   "name": "python",
   "nbconvert_exporter": "python",
   "pygments_lexer": "ipython3",
   "version": "3.7.4"
  }
 },
 "nbformat": 4,
 "nbformat_minor": 2
}
