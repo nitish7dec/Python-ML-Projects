{
 "cells": [
  {
   "cell_type": "code",
   "execution_count": 1,
   "metadata": {},
   "outputs": [
    {
     "name": "stdout",
     "output_type": "stream",
     "text": [
      "i\n"
     ]
    }
   ],
   "source": [
    "#String indexing\n",
    "X= \"Nitish\"\n",
    "print(X[1])\n",
    "\n",
    "#Question 2:\n",
    "#If x='hello' what is the output of x[1]\n",
    "#Ans : e\n",
    "\n"
   ]
  },
  {
   "cell_type": "code",
   "execution_count": 20,
   "metadata": {},
   "outputs": [
    {
     "name": "stdout",
     "output_type": "stream",
     "text": [
      "iti\n"
     ]
    }
   ],
   "source": [
    "#String Slicing\n",
    "\n",
    "X = 'Nitish'\n",
    "print(X[1:4])"
   ]
  },
  {
   "cell_type": "code",
   "execution_count": 56,
   "metadata": {},
   "outputs": [
    {
     "name": "stdout",
     "output_type": "stream",
     "text": [
      "Nit\n"
     ]
    }
   ],
   "source": [
    "#String Concentration\n",
    "\n",
    "X = \"Nitish\"\n",
    "y = X[0:3]\n",
    "\n",
    "print(y)"
   ]
  },
  {
   "cell_type": "code",
   "execution_count": 57,
   "metadata": {},
   "outputs": [
    {
     "name": "stdout",
     "output_type": "stream",
     "text": [
      "Nitesh\n"
     ]
    }
   ],
   "source": [
    "Z = 'esh'\n",
    "Name = y + Z\n",
    "\n",
    "print(Name)"
   ]
  },
  {
   "cell_type": "code",
   "execution_count": 27,
   "metadata": {},
   "outputs": [
    {
     "data": {
      "text/plain": [
       "'NITISH'"
      ]
     },
     "execution_count": 27,
     "metadata": {},
     "output_type": "execute_result"
    }
   ],
   "source": [
    "# Change all the character in the upper case and lower\n",
    "\n",
    "X.upper()\n",
    "\n",
    "#without () it will give   error<function str.upper>\n",
    "#for lower X.lower()"
   ]
  },
  {
   "cell_type": "code",
   "execution_count": 34,
   "metadata": {},
   "outputs": [
    {
     "data": {
      "text/plain": [
       "['How', 'are', 'you']"
      ]
     },
     "execution_count": 34,
     "metadata": {},
     "output_type": "execute_result"
    }
   ],
   "source": [
    "# Spliting the characters\n",
    "A = \"How are you\"\n",
    "A.split()"
   ]
  },
  {
   "cell_type": "code",
   "execution_count": 33,
   "metadata": {},
   "outputs": [
    {
     "data": {
      "text/plain": [
       "['H', 'w are y', 'u']"
      ]
     },
     "execution_count": 33,
     "metadata": {},
     "output_type": "execute_result"
    }
   ],
   "source": [
    "# spliting the characters based on a letter\n",
    "A.split('o')"
   ]
  },
  {
   "cell_type": "code",
   "execution_count": 45,
   "metadata": {},
   "outputs": [
    {
     "name": "stdout",
     "output_type": "stream",
     "text": [
      "Nitish scored 45 in 2018\n"
     ]
    }
   ],
   "source": [
    "#.format method\n",
    "\n",
    "print(\"Nitish scored 45 in {}\" .format('2018'))"
   ]
  },
  {
   "cell_type": "code",
   "execution_count": 47,
   "metadata": {},
   "outputs": [
    {
     "name": "stdout",
     "output_type": "stream",
     "text": [
      "The quick brown fox\n"
     ]
    }
   ],
   "source": [
    "#.format method with indexing technique\n",
    "\n",
    "print('The {1} {2} {0}' .format('fox','quick','brown'))"
   ]
  },
  {
   "cell_type": "code",
   "execution_count": 48,
   "metadata": {},
   "outputs": [
    {
     "name": "stdout",
     "output_type": "stream",
     "text": [
      "The quick brown fox\n"
     ]
    }
   ],
   "source": [
    "#.format method with indexing technique\n",
    "\n",
    "print('The {b} {c} {a}' .format(a = 'fox',b= 'quick',c='brown'))"
   ]
  },
  {
   "cell_type": "code",
   "execution_count": 50,
   "metadata": {},
   "outputs": [
    {
     "name": "stdout",
     "output_type": "stream",
     "text": [
      "The result was      1.299\n"
     ]
    }
   ],
   "source": [
    "#float formatting follows \"{value:width:precisionf}\"\n",
    "result = 100/77\n",
    "print(\"The result was {r:10.3f}\".format(r = result))"
   ]
  },
  {
   "cell_type": "code",
   "execution_count": 51,
   "metadata": {},
   "outputs": [
    {
     "name": "stdout",
     "output_type": "stream",
     "text": [
      "The result was 1.299\n"
     ]
    }
   ],
   "source": [
    "#float formatting follows \"{value:width:precisionf}\"\n",
    "result = 100/77\n",
    "print(\"The result was {r:1.3f}\".format(r = result))"
   ]
  },
  {
   "cell_type": "code",
   "execution_count": 54,
   "metadata": {},
   "outputs": [
    {
     "name": "stdout",
     "output_type": "stream",
     "text": [
      "Hello his name is Nitish\n"
     ]
    }
   ],
   "source": [
    "#Alternate of python string formatting   Method name - Fstring\n",
    "\n",
    "S = \"Nitish\"\n",
    "print(f'Hello his name is {S}')"
   ]
  },
  {
   "cell_type": "code",
   "execution_count": 55,
   "metadata": {},
   "outputs": [
    {
     "data": {
      "text/plain": [
       "3"
      ]
     },
     "execution_count": 55,
     "metadata": {},
     "output_type": "execute_result"
    }
   ],
   "source": [
    "#Define a list and check the how to check the number of elements in the list\n",
    "\n",
    "my_list = [1,2,3]\n",
    "len(my_list)"
   ]
  },
  {
   "cell_type": "code",
   "execution_count": 59,
   "metadata": {},
   "outputs": [
    {
     "name": "stdout",
     "output_type": "stream",
     "text": [
      "1\n",
      "[2, 3]\n"
     ]
    }
   ],
   "source": [
    "#Element slicing in a list\n",
    "my_list = [1,2,3]\n",
    "print(my_list[0])\n",
    "\n",
    "print(my_list[1:])"
   ]
  },
  {
   "cell_type": "code",
   "execution_count": 66,
   "metadata": {},
   "outputs": [
    {
     "name": "stdout",
     "output_type": "stream",
     "text": [
      "['A', 'B', 'C', 'D']\n"
     ]
    }
   ],
   "source": [
    "# How to add  elements within the list\n",
    "\n",
    "new_list = ['A','B','C']\n",
    "new_list.append('D')\n",
    "print(new_list)"
   ]
  },
  {
   "cell_type": "code",
   "execution_count": 67,
   "metadata": {},
   "outputs": [
    {
     "name": "stdout",
     "output_type": "stream",
     "text": [
      "['Z', 'B', 'C']\n"
     ]
    }
   ],
   "source": [
    "# How to change replace any of  elements within the list\n",
    "new_list = ['A','B','C']\n",
    "new_list[0] = 'Z'\n",
    "print(new_list)"
   ]
  },
  {
   "cell_type": "code",
   "execution_count": 68,
   "metadata": {},
   "outputs": [
    {
     "name": "stdout",
     "output_type": "stream",
     "text": [
      "['A', 'B']\n"
     ]
    }
   ],
   "source": [
    "# How to drop the last element of a list\n",
    "new_list = ['A','B','C']\n",
    "new_list.pop()\n",
    "print(new_list)\n",
    "\n",
    "# insert he index number in the pop function and it will remove that element with that respective index no."
   ]
  },
  {
   "cell_type": "code",
   "execution_count": 70,
   "metadata": {},
   "outputs": [
    {
     "name": "stdout",
     "output_type": "stream",
     "text": [
      "[1, 3, 5, 6, 7]\n"
     ]
    }
   ],
   "source": [
    "#How to sort any list \n",
    "X = [5,6,7,1,3]\n",
    "X.sort()\n",
    "print(X)"
   ]
  },
  {
   "cell_type": "code",
   "execution_count": 72,
   "metadata": {},
   "outputs": [
    {
     "name": "stdout",
     "output_type": "stream",
     "text": [
      "[7, 6, 5, 3, 1]\n"
     ]
    }
   ],
   "source": [
    "#or for reversing the order\n",
    "X.reverse()\n",
    "print(X)"
   ]
  },
  {
   "cell_type": "code",
   "execution_count": 87,
   "metadata": {},
   "outputs": [
    {
     "name": "stdout",
     "output_type": "stream",
     "text": [
      "Enter your Name :  Nitish\n",
      "Nitish\n"
     ]
    },
    {
     "data": {
      "text/plain": [
       "'hsitiN'"
      ]
     },
     "execution_count": 87,
     "metadata": {},
     "output_type": "execute_result"
    }
   ],
   "source": [
    "#Question : Input will be any string and reverse the string in the output\n",
    "\n",
    "X = input(\"Enter your Name :  \")\n",
    "print(X)\n",
    "X[::-1]"
   ]
  },
  {
   "cell_type": "code",
   "execution_count": 3,
   "metadata": {},
   "outputs": [
    {
     "data": {
      "text/plain": [
       "'Nitish'"
      ]
     },
     "execution_count": 3,
     "metadata": {},
     "output_type": "execute_result"
    }
   ],
   "source": [
    "#Dictionarie : Is used when we dont know the index number of any variable\n",
    "\n",
    "my_dict = {'key1' : 'Nitish','key2' : 'Gaurav'}\n",
    "my_dict['key1']"
   ]
  },
  {
   "cell_type": "code",
   "execution_count": 10,
   "metadata": {},
   "outputs": [
    {
     "data": {
      "text/plain": [
       "12345"
      ]
     },
     "execution_count": 10,
     "metadata": {},
     "output_type": "execute_result"
    }
   ],
   "source": [
    "#Dictionarie having list and inside dictionarie\n",
    "my_dict = {'key1' : 'Nitish','key2' : [1,2,3], 'key3' : {'Text':12345}}\n",
    "\n",
    "my_dict['key3']['Text']\n"
   ]
  },
  {
   "cell_type": "code",
   "execution_count": 13,
   "metadata": {},
   "outputs": [
    {
     "data": {
      "text/plain": [
       "2"
      ]
     },
     "execution_count": 13,
     "metadata": {},
     "output_type": "execute_result"
    }
   ],
   "source": [
    "#Tuple : Tuples are immutable (Once any element is stored in a tuple, then it cant be changed)\n",
    "t = ('Nitish','Nitish','Sam')\n",
    "t.count('Nitish')\n",
    "t.index('Sam')"
   ]
  },
  {
   "cell_type": "code",
   "execution_count": 17,
   "metadata": {},
   "outputs": [
    {
     "data": {
      "text/plain": [
       "False"
      ]
     },
     "execution_count": 17,
     "metadata": {},
     "output_type": "execute_result"
    }
   ],
   "source": [
    "#Python Comparison\n",
    "\n",
    "2==2\n"
   ]
  },
  {
   "cell_type": "code",
   "execution_count": 18,
   "metadata": {},
   "outputs": [
    {
     "data": {
      "text/plain": [
       "False"
      ]
     },
     "execution_count": 18,
     "metadata": {},
     "output_type": "execute_result"
    }
   ],
   "source": [
    "2!=2"
   ]
  },
  {
   "cell_type": "code",
   "execution_count": 19,
   "metadata": {},
   "outputs": [
    {
     "data": {
      "text/plain": [
       "True"
      ]
     },
     "execution_count": 19,
     "metadata": {},
     "output_type": "execute_result"
    }
   ],
   "source": [
    "2>=0"
   ]
  },
  {
   "cell_type": "code",
   "execution_count": 23,
   "metadata": {},
   "outputs": [
    {
     "data": {
      "text/plain": [
       "True"
      ]
     },
     "execution_count": 23,
     "metadata": {},
     "output_type": "execute_result"
    }
   ],
   "source": [
    "1<2<3\n",
    "or\n",
    "#1<2 and 2<3"
   ]
  },
  {
   "cell_type": "code",
   "execution_count": 28,
   "metadata": {},
   "outputs": [],
   "source": [
    "import zipfile as Python_Learning_Bootcamp\n",
    "files = Python_Learning_Bootcamp.ZipFile(r\"C:\\Users\\Neha\\Desktop\\Nitish Kaushik\\Complete-Python-3-Bootcamp-master.zip\")\n",
    "files.extractall('Python_Bootcamp')\n",
    "files.close()"
   ]
  },
  {
   "cell_type": "code",
   "execution_count": null,
   "metadata": {},
   "outputs": [],
   "source": []
  }
 ],
 "metadata": {
  "kernelspec": {
   "display_name": "Python 3",
   "language": "python",
   "name": "python3"
  },
  "language_info": {
   "codemirror_mode": {
    "name": "ipython",
    "version": 3
   },
   "file_extension": ".py",
   "mimetype": "text/x-python",
   "name": "python",
   "nbconvert_exporter": "python",
   "pygments_lexer": "ipython3",
   "version": "3.7.3"
  }
 },
 "nbformat": 4,
 "nbformat_minor": 2
}
